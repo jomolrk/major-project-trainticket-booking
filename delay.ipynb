{
  "nbformat": 4,
  "nbformat_minor": 0,
  "metadata": {
    "colab": {
      "provenance": [],
      "authorship_tag": "ABX9TyPWj7PfbpGmRM0kckqYqbOA",
      "include_colab_link": true
    },
    "kernelspec": {
      "name": "python3",
      "display_name": "Python 3"
    },
    "language_info": {
      "name": "python"
    }
  },
  "cells": [
    {
      "cell_type": "markdown",
      "metadata": {
        "id": "view-in-github",
        "colab_type": "text"
      },
      "source": [
        "<a href=\"https://colab.research.google.com/github/jomolrk/major-project-trainticket-booking/blob/main/delay.ipynb\" target=\"_parent\"><img src=\"https://colab.research.google.com/assets/colab-badge.svg\" alt=\"Open In Colab\"/></a>"
      ]
    },
    {
      "cell_type": "code",
      "source": [
        "import pandas as pd\n",
        "import numpy as np\n",
        "import matplotlib.pyplot as plt\n",
        "import seaborn as sns"
      ],
      "metadata": {
        "id": "GoVtBZPtzU7u"
      },
      "execution_count": null,
      "outputs": []
    },
    {
      "cell_type": "code",
      "source": [
        "train=pd.read_csv('/content/delays.csv')\n",
        "\n",
        "train.head()"
      ],
      "metadata": {
        "id": "HJhpdNspzedH",
        "colab": {
          "base_uri": "https://localhost:8080/",
          "height": 337
        },
        "outputId": "8c2d40f9-aca9-4302-fd17-5affcf358878"
      },
      "execution_count": null,
      "outputs": [
        {
          "output_type": "execute_result",
          "data": {
            "text/plain": [
              "              datetime                      id             carrier  \\\n",
              "0  2022-05-16 00:00:00   41002/3 (102) POLONIA       PKP Intercity   \n",
              "1  2022-05-16 00:00:00          91888/9 (102)   Koleje Mazowieckie   \n",
              "2  2022-05-16 00:00:00          21644/5 (102)   Koleje Mazowieckie   \n",
              "3  2022-05-16 00:00:00          19300/1 (102)   Koleje Mazowieckie   \n",
              "4  2022-05-16 00:00:00  38170/1 (102) USTRONIE       PKP Intercity   \n",
              "\n",
              "         date                                connection arrival    delay  \\\n",
              "0  2022-05-15              Bohumin - Warszawa Wschodnia   21:31  162 min   \n",
              "1  2022-05-16              Siedlce - Warszawa Zachodnia   00:15    0 min   \n",
              "2  2022-05-16         Radom Główny - Warszawa Wschodnia   00:29    0 min   \n",
              "3  2022-05-16  Warszawa Wschodnia - Grodzisk Mazowiecki   00:34    0 min   \n",
              "4  2022-05-16                 Kraków Główny - Kołobrzeg   00:55    0 min   \n",
              "\n",
              "                 name  \n",
              "0  Warszawa Zachodnia  \n",
              "1  Warszawa Zachodnia  \n",
              "2  Warszawa Zachodnia  \n",
              "3  Warszawa Zachodnia  \n",
              "4  Warszawa Zachodnia  "
            ],
            "text/html": [
              "\n",
              "  <div id=\"df-3fef0bf4-83f6-40af-83d8-92391687c709\">\n",
              "    <div class=\"colab-df-container\">\n",
              "      <div>\n",
              "<style scoped>\n",
              "    .dataframe tbody tr th:only-of-type {\n",
              "        vertical-align: middle;\n",
              "    }\n",
              "\n",
              "    .dataframe tbody tr th {\n",
              "        vertical-align: top;\n",
              "    }\n",
              "\n",
              "    .dataframe thead th {\n",
              "        text-align: right;\n",
              "    }\n",
              "</style>\n",
              "<table border=\"1\" class=\"dataframe\">\n",
              "  <thead>\n",
              "    <tr style=\"text-align: right;\">\n",
              "      <th></th>\n",
              "      <th>datetime</th>\n",
              "      <th>id</th>\n",
              "      <th>carrier</th>\n",
              "      <th>date</th>\n",
              "      <th>connection</th>\n",
              "      <th>arrival</th>\n",
              "      <th>delay</th>\n",
              "      <th>name</th>\n",
              "    </tr>\n",
              "  </thead>\n",
              "  <tbody>\n",
              "    <tr>\n",
              "      <th>0</th>\n",
              "      <td>2022-05-16 00:00:00</td>\n",
              "      <td>41002/3 (102) POLONIA</td>\n",
              "      <td>PKP Intercity</td>\n",
              "      <td>2022-05-15</td>\n",
              "      <td>Bohumin - Warszawa Wschodnia</td>\n",
              "      <td>21:31</td>\n",
              "      <td>162 min</td>\n",
              "      <td>Warszawa Zachodnia</td>\n",
              "    </tr>\n",
              "    <tr>\n",
              "      <th>1</th>\n",
              "      <td>2022-05-16 00:00:00</td>\n",
              "      <td>91888/9 (102)</td>\n",
              "      <td>Koleje Mazowieckie</td>\n",
              "      <td>2022-05-16</td>\n",
              "      <td>Siedlce - Warszawa Zachodnia</td>\n",
              "      <td>00:15</td>\n",
              "      <td>0 min</td>\n",
              "      <td>Warszawa Zachodnia</td>\n",
              "    </tr>\n",
              "    <tr>\n",
              "      <th>2</th>\n",
              "      <td>2022-05-16 00:00:00</td>\n",
              "      <td>21644/5 (102)</td>\n",
              "      <td>Koleje Mazowieckie</td>\n",
              "      <td>2022-05-16</td>\n",
              "      <td>Radom Główny - Warszawa Wschodnia</td>\n",
              "      <td>00:29</td>\n",
              "      <td>0 min</td>\n",
              "      <td>Warszawa Zachodnia</td>\n",
              "    </tr>\n",
              "    <tr>\n",
              "      <th>3</th>\n",
              "      <td>2022-05-16 00:00:00</td>\n",
              "      <td>19300/1 (102)</td>\n",
              "      <td>Koleje Mazowieckie</td>\n",
              "      <td>2022-05-16</td>\n",
              "      <td>Warszawa Wschodnia - Grodzisk Mazowiecki</td>\n",
              "      <td>00:34</td>\n",
              "      <td>0 min</td>\n",
              "      <td>Warszawa Zachodnia</td>\n",
              "    </tr>\n",
              "    <tr>\n",
              "      <th>4</th>\n",
              "      <td>2022-05-16 00:00:00</td>\n",
              "      <td>38170/1 (102) USTRONIE</td>\n",
              "      <td>PKP Intercity</td>\n",
              "      <td>2022-05-16</td>\n",
              "      <td>Kraków Główny - Kołobrzeg</td>\n",
              "      <td>00:55</td>\n",
              "      <td>0 min</td>\n",
              "      <td>Warszawa Zachodnia</td>\n",
              "    </tr>\n",
              "  </tbody>\n",
              "</table>\n",
              "</div>\n",
              "      <button class=\"colab-df-convert\" onclick=\"convertToInteractive('df-3fef0bf4-83f6-40af-83d8-92391687c709')\"\n",
              "              title=\"Convert this dataframe to an interactive table.\"\n",
              "              style=\"display:none;\">\n",
              "        \n",
              "  <svg xmlns=\"http://www.w3.org/2000/svg\" height=\"24px\"viewBox=\"0 0 24 24\"\n",
              "       width=\"24px\">\n",
              "    <path d=\"M0 0h24v24H0V0z\" fill=\"none\"/>\n",
              "    <path d=\"M18.56 5.44l.94 2.06.94-2.06 2.06-.94-2.06-.94-.94-2.06-.94 2.06-2.06.94zm-11 1L8.5 8.5l.94-2.06 2.06-.94-2.06-.94L8.5 2.5l-.94 2.06-2.06.94zm10 10l.94 2.06.94-2.06 2.06-.94-2.06-.94-.94-2.06-.94 2.06-2.06.94z\"/><path d=\"M17.41 7.96l-1.37-1.37c-.4-.4-.92-.59-1.43-.59-.52 0-1.04.2-1.43.59L10.3 9.45l-7.72 7.72c-.78.78-.78 2.05 0 2.83L4 21.41c.39.39.9.59 1.41.59.51 0 1.02-.2 1.41-.59l7.78-7.78 2.81-2.81c.8-.78.8-2.07 0-2.86zM5.41 20L4 18.59l7.72-7.72 1.47 1.35L5.41 20z\"/>\n",
              "  </svg>\n",
              "      </button>\n",
              "      \n",
              "  <style>\n",
              "    .colab-df-container {\n",
              "      display:flex;\n",
              "      flex-wrap:wrap;\n",
              "      gap: 12px;\n",
              "    }\n",
              "\n",
              "    .colab-df-convert {\n",
              "      background-color: #E8F0FE;\n",
              "      border: none;\n",
              "      border-radius: 50%;\n",
              "      cursor: pointer;\n",
              "      display: none;\n",
              "      fill: #1967D2;\n",
              "      height: 32px;\n",
              "      padding: 0 0 0 0;\n",
              "      width: 32px;\n",
              "    }\n",
              "\n",
              "    .colab-df-convert:hover {\n",
              "      background-color: #E2EBFA;\n",
              "      box-shadow: 0px 1px 2px rgba(60, 64, 67, 0.3), 0px 1px 3px 1px rgba(60, 64, 67, 0.15);\n",
              "      fill: #174EA6;\n",
              "    }\n",
              "\n",
              "    [theme=dark] .colab-df-convert {\n",
              "      background-color: #3B4455;\n",
              "      fill: #D2E3FC;\n",
              "    }\n",
              "\n",
              "    [theme=dark] .colab-df-convert:hover {\n",
              "      background-color: #434B5C;\n",
              "      box-shadow: 0px 1px 3px 1px rgba(0, 0, 0, 0.15);\n",
              "      filter: drop-shadow(0px 1px 2px rgba(0, 0, 0, 0.3));\n",
              "      fill: #FFFFFF;\n",
              "    }\n",
              "  </style>\n",
              "\n",
              "      <script>\n",
              "        const buttonEl =\n",
              "          document.querySelector('#df-3fef0bf4-83f6-40af-83d8-92391687c709 button.colab-df-convert');\n",
              "        buttonEl.style.display =\n",
              "          google.colab.kernel.accessAllowed ? 'block' : 'none';\n",
              "\n",
              "        async function convertToInteractive(key) {\n",
              "          const element = document.querySelector('#df-3fef0bf4-83f6-40af-83d8-92391687c709');\n",
              "          const dataTable =\n",
              "            await google.colab.kernel.invokeFunction('convertToInteractive',\n",
              "                                                     [key], {});\n",
              "          if (!dataTable) return;\n",
              "\n",
              "          const docLinkHtml = 'Like what you see? Visit the ' +\n",
              "            '<a target=\"_blank\" href=https://colab.research.google.com/notebooks/data_table.ipynb>data table notebook</a>'\n",
              "            + ' to learn more about interactive tables.';\n",
              "          element.innerHTML = '';\n",
              "          dataTable['output_type'] = 'display_data';\n",
              "          await google.colab.output.renderOutput(dataTable, element);\n",
              "          const docLink = document.createElement('div');\n",
              "          docLink.innerHTML = docLinkHtml;\n",
              "          element.appendChild(docLink);\n",
              "        }\n",
              "      </script>\n",
              "    </div>\n",
              "  </div>\n",
              "  "
            ]
          },
          "metadata": {},
          "execution_count": 16
        }
      ]
    },
    {
      "cell_type": "code",
      "source": [
        "train.shape"
      ],
      "metadata": {
        "colab": {
          "base_uri": "https://localhost:8080/"
        },
        "id": "d4Yy7JvwzbyO",
        "outputId": "e4d584c0-6d97-4e90-cc1c-d5d86ccddfa0"
      },
      "execution_count": null,
      "outputs": [
        {
          "output_type": "execute_result",
          "data": {
            "text/plain": [
              "(8470, 8)"
            ]
          },
          "metadata": {},
          "execution_count": 17
        }
      ]
    },
    {
      "cell_type": "code",
      "source": [
        "train.isnull().values.any()"
      ],
      "metadata": {
        "id": "R2anCCtvz1on",
        "colab": {
          "base_uri": "https://localhost:8080/"
        },
        "outputId": "8bf24c6c-42e5-432f-c170-b37c6037126e"
      },
      "execution_count": null,
      "outputs": [
        {
          "output_type": "execute_result",
          "data": {
            "text/plain": [
              "True"
            ]
          },
          "metadata": {},
          "execution_count": 18
        }
      ]
    },
    {
      "cell_type": "code",
      "source": [
        "train.isnull().sum()"
      ],
      "metadata": {
        "colab": {
          "base_uri": "https://localhost:8080/"
        },
        "id": "2iTNI1WTJJFK",
        "outputId": "03071d62-2481-480f-f75e-80bfa3ad7b31"
      },
      "execution_count": null,
      "outputs": [
        {
          "output_type": "execute_result",
          "data": {
            "text/plain": [
              "datetime      0\n",
              "id            0\n",
              "carrier       0\n",
              "date          1\n",
              "connection    1\n",
              "arrival       1\n",
              "delay         1\n",
              "name          1\n",
              "dtype: int64"
            ]
          },
          "metadata": {},
          "execution_count": 19
        }
      ]
    },
    {
      "cell_type": "code",
      "source": [
        "sns.countplot(x='delay',data=train)"
      ],
      "metadata": {
        "colab": {
          "base_uri": "https://localhost:8080/",
          "height": 296
        },
        "id": "uulrMwgGKZt1",
        "outputId": "026a12d3-c335-4ba0-8cec-e987c4167199"
      },
      "execution_count": null,
      "outputs": [
        {
          "output_type": "execute_result",
          "data": {
            "text/plain": [
              "<AxesSubplot:xlabel='delay', ylabel='count'>"
            ]
          },
          "metadata": {},
          "execution_count": 27
        },
        {
          "output_type": "display_data",
          "data": {
            "text/plain": [
              "<Figure size 432x288 with 1 Axes>"
            ],
            "image/png": "[encoded data removed]"
          },
          "metadata": {
            "needs_background": "light"
          }
        }
      ]
    },
    {
      "cell_type": "code",
      "source": [
        "sns.countplot(x=\"arrival\",hue=\"delay\",data=train)"
      ],
      "metadata": {
        "colab": {
          "base_uri": "https://localhost:8080/",
          "height": 1000
        },
        "id": "ewS-MzMsLTYK",
        "outputId": "c1f87cf8-c53f-4a12-a777-4141e41666aa"
      },
      "execution_count": null,
      "outputs": [
        {
          "output_type": "execute_result",
          "data": {
            "text/plain": [
              "<AxesSubplot:xlabel='arrival', ylabel='count'>"
            ]
          },
          "metadata": {},
          "execution_count": 31
        },
        {
          "output_type": "display_data",
          "data": {
            "text/plain": [
              "<Figure size 432x288 with 1 Axes>"
            ],
            "image/png": "[encoded data removed]"
          },
          "metadata": {
            "needs_background": "light"
          }
        }
      ]
    },
    {
      "cell_type": "code",
      "source": [
        "plt.figure(figsize=(10, 10))\n",
        "axis = sns.countplot(x=train['arrival'], data =train, order=train['arrival'].value_counts().iloc[:20].index)\n",
        "axis.set_xticklabels(axis.get_xticklabels(), rotation=90, ha=\"right\")\n",
        "plt.tight_layout()\n",
        "plt.show()"
      ],
      "metadata": {
        "colab": {
          "base_uri": "https://localhost:8080/",
          "height": 729
        },
        "id": "fS1CDCayMVbr",
        "outputId": "ec6ce722-8aec-45f2-e4cd-c12de4adfe37"
      },
      "execution_count": null,
      "outputs": [
        {
          "output_type": "display_data",
          "data": {
            "text/plain": [
              "<Figure size 720x720 with 1 Axes>"
            ],
            "image/png": "[encoded data removed]"
          },
          "metadata": {
            "needs_background": "light"
          }
        }
      ]
    },
    {
      "cell_type": "code",
      "source": [
        "train_delay= pd.read_csv('delays.csv')\n",
        "train_delay\n",
        "     \n",
        "     "
      ],
      "metadata": {
        "colab": {
          "base_uri": "https://localhost:8080/",
          "height": 641
        },
        "id": "W9VHAYUYK5uc",
        "outputId": "ddcf2b88-14ed-48bc-bfbc-e48f31305bd6"
      },
      "execution_count": null,
      "outputs": [
        {
          "output_type": "execute_result",
          "data": {
            "text/plain": [
              "                   datetime                      id              carrier  \\\n",
              "0       2022-05-16 00:00:00   41002/3 (102) POLONIA        PKP Intercity   \n",
              "1       2022-05-16 00:00:00          91888/9 (102)    Koleje Mazowieckie   \n",
              "2       2022-05-16 00:00:00          21644/5 (102)    Koleje Mazowieckie   \n",
              "3       2022-05-16 00:00:00          19300/1 (102)    Koleje Mazowieckie   \n",
              "4       2022-05-16 00:00:00  38170/1 (102) USTRONIE        PKP Intercity   \n",
              "...                     ...                     ...                  ...   \n",
              "916658  2022-05-19 08:55:00      18108/9  WŁÓKNIARZ        PKP Intercity   \n",
              "916659  2022-05-19 08:55:00               78403/2    POLREGIO Sp. z o.o.   \n",
              "916660  2022-05-19 08:55:00         58102/3  ŻUŁAWY        PKP Intercity   \n",
              "916661  2022-05-19 08:55:00      3802/3  CHEŁMOŃSKI        PKP Intercity   \n",
              "916662  2022-05-19 08:55:00               78403/2    POLREGIO Sp. z o.o.   \n",
              "\n",
              "              date                                connection arrival    delay  \\\n",
              "0       2022-05-15              Bohumin - Warszawa Wschodnia   21:31  162 min   \n",
              "1       2022-05-16              Siedlce - Warszawa Zachodnia   00:15    0 min   \n",
              "2       2022-05-16         Radom Główny - Warszawa Wschodnia   00:29    0 min   \n",
              "3       2022-05-16  Warszawa Wschodnia - Grodzisk Mazowiecki   00:34    0 min   \n",
              "4       2022-05-16                 Kraków Główny - Kołobrzeg   00:55    0 min   \n",
              "...            ...                                       ...     ...      ...   \n",
              "916658  2022-05-19          Łódź Fabryczna - Szczecin Główny   12:19    1 min   \n",
              "916659  2022-05-19          Poznań Główny - Świnoujście Port   13:04    0 min   \n",
              "916660  2022-05-19          Olsztyn Główny - Szczecin Główny   13:24    0 min   \n",
              "916661  2022-05-19               Kraków Główny - Świnoujście   13:27    0 min   \n",
              "916662  2022-05-19          Poznań Główny - Świnoujście Port     NaN      NaN   \n",
              "\n",
              "                      name  \n",
              "0       Warszawa Zachodnia  \n",
              "1       Warszawa Zachodnia  \n",
              "2       Warszawa Zachodnia  \n",
              "3       Warszawa Zachodnia  \n",
              "4       Warszawa Zachodnia  \n",
              "...                    ...  \n",
              "916658      Szczecin Dąbie  \n",
              "916659      Szczecin Dąbie  \n",
              "916660      Szczecin Dąbie  \n",
              "916661      Szczecin Dąbie  \n",
              "916662                 NaN  \n",
              "\n",
              "[916663 rows x 8 columns]"
            ],
            "text/html": [
              "\n",
              "  <div id=\"df-b5d9bb01-835b-471a-b5a0-7a75528304ed\">\n",
              "    <div class=\"colab-df-container\">\n",
              "      <div>\n",
              "<style scoped>\n",
              "    .dataframe tbody tr th:only-of-type {\n",
              "        vertical-align: middle;\n",
              "    }\n",
              "\n",
              "    .dataframe tbody tr th {\n",
              "        vertical-align: top;\n",
              "    }\n",
              "\n",
              "    .dataframe thead th {\n",
              "        text-align: right;\n",
              "    }\n",
              "</style>\n",
              "<table border=\"1\" class=\"dataframe\">\n",
              "  <thead>\n",
              "    <tr style=\"text-align: right;\">\n",
              "      <th></th>\n",
              "      <th>datetime</th>\n",
              "      <th>id</th>\n",
              "      <th>carrier</th>\n",
              "      <th>date</th>\n",
              "      <th>connection</th>\n",
              "      <th>arrival</th>\n",
              "      <th>delay</th>\n",
              "      <th>name</th>\n",
              "    </tr>\n",
              "  </thead>\n",
              "  <tbody>\n",
              "    <tr>\n",
              "      <th>0</th>\n",
              "      <td>2022-05-16 00:00:00</td>\n",
              "      <td>41002/3 (102) POLONIA</td>\n",
              "      <td>PKP Intercity</td>\n",
              "      <td>2022-05-15</td>\n",
              "      <td>Bohumin - Warszawa Wschodnia</td>\n",
              "      <td>21:31</td>\n",
              "      <td>162 min</td>\n",
              "      <td>Warszawa Zachodnia</td>\n",
              "    </tr>\n",
              "    <tr>\n",
              "      <th>1</th>\n",
              "      <td>2022-05-16 00:00:00</td>\n",
              "      <td>91888/9 (102)</td>\n",
              "      <td>Koleje Mazowieckie</td>\n",
              "      <td>2022-05-16</td>\n",
              "      <td>Siedlce - Warszawa Zachodnia</td>\n",
              "      <td>00:15</td>\n",
              "      <td>0 min</td>\n",
              "      <td>Warszawa Zachodnia</td>\n",
              "    </tr>\n",
              "    <tr>\n",
              "      <th>2</th>\n",
              "      <td>2022-05-16 00:00:00</td>\n",
              "      <td>21644/5 (102)</td>\n",
              "      <td>Koleje Mazowieckie</td>\n",
              "      <td>2022-05-16</td>\n",
              "      <td>Radom Główny - Warszawa Wschodnia</td>\n",
              "      <td>00:29</td>\n",
              "      <td>0 min</td>\n",
              "      <td>Warszawa Zachodnia</td>\n",
              "    </tr>\n",
              "    <tr>\n",
              "      <th>3</th>\n",
              "      <td>2022-05-16 00:00:00</td>\n",
              "      <td>19300/1 (102)</td>\n",
              "      <td>Koleje Mazowieckie</td>\n",
              "      <td>2022-05-16</td>\n",
              "      <td>Warszawa Wschodnia - Grodzisk Mazowiecki</td>\n",
              "      <td>00:34</td>\n",
              "      <td>0 min</td>\n",
              "      <td>Warszawa Zachodnia</td>\n",
              "    </tr>\n",
              "    <tr>\n",
              "      <th>4</th>\n",
              "      <td>2022-05-16 00:00:00</td>\n",
              "      <td>38170/1 (102) USTRONIE</td>\n",
              "      <td>PKP Intercity</td>\n",
              "      <td>2022-05-16</td>\n",
              "      <td>Kraków Główny - Kołobrzeg</td>\n",
              "      <td>00:55</td>\n",
              "      <td>0 min</td>\n",
              "      <td>Warszawa Zachodnia</td>\n",
              "    </tr>\n",
              "    <tr>\n",
              "      <th>...</th>\n",
              "      <td>...</td>\n",
              "      <td>...</td>\n",
              "      <td>...</td>\n",
              "      <td>...</td>\n",
              "      <td>...</td>\n",
              "      <td>...</td>\n",
              "      <td>...</td>\n",
              "      <td>...</td>\n",
              "    </tr>\n",
              "    <tr>\n",
              "      <th>916658</th>\n",
              "      <td>2022-05-19 08:55:00</td>\n",
              "      <td>18108/9  WŁÓKNIARZ</td>\n",
              "      <td>PKP Intercity</td>\n",
              "      <td>2022-05-19</td>\n",
              "      <td>Łódź Fabryczna - Szczecin Główny</td>\n",
              "      <td>12:19</td>\n",
              "      <td>1 min</td>\n",
              "      <td>Szczecin Dąbie</td>\n",
              "    </tr>\n",
              "    <tr>\n",
              "      <th>916659</th>\n",
              "      <td>2022-05-19 08:55:00</td>\n",
              "      <td>78403/2</td>\n",
              "      <td>POLREGIO Sp. z o.o.</td>\n",
              "      <td>2022-05-19</td>\n",
              "      <td>Poznań Główny - Świnoujście Port</td>\n",
              "      <td>13:04</td>\n",
              "      <td>0 min</td>\n",
              "      <td>Szczecin Dąbie</td>\n",
              "    </tr>\n",
              "    <tr>\n",
              "      <th>916660</th>\n",
              "      <td>2022-05-19 08:55:00</td>\n",
              "      <td>58102/3  ŻUŁAWY</td>\n",
              "      <td>PKP Intercity</td>\n",
              "      <td>2022-05-19</td>\n",
              "      <td>Olsztyn Główny - Szczecin Główny</td>\n",
              "      <td>13:24</td>\n",
              "      <td>0 min</td>\n",
              "      <td>Szczecin Dąbie</td>\n",
              "    </tr>\n",
              "    <tr>\n",
              "      <th>916661</th>\n",
              "      <td>2022-05-19 08:55:00</td>\n",
              "      <td>3802/3  CHEŁMOŃSKI</td>\n",
              "      <td>PKP Intercity</td>\n",
              "      <td>2022-05-19</td>\n",
              "      <td>Kraków Główny - Świnoujście</td>\n",
              "      <td>13:27</td>\n",
              "      <td>0 min</td>\n",
              "      <td>Szczecin Dąbie</td>\n",
              "    </tr>\n",
              "    <tr>\n",
              "      <th>916662</th>\n",
              "      <td>2022-05-19 08:55:00</td>\n",
              "      <td>78403/2</td>\n",
              "      <td>POLREGIO Sp. z o.o.</td>\n",
              "      <td>2022-05-19</td>\n",
              "      <td>Poznań Główny - Świnoujście Port</td>\n",
              "      <td>NaN</td>\n",
              "      <td>NaN</td>\n",
              "      <td>NaN</td>\n",
              "    </tr>\n",
              "  </tbody>\n",
              "</table>\n",
              "<p>916663 rows × 8 columns</p>\n",
              "</div>\n",
              "      <button class=\"colab-df-convert\" onclick=\"convertToInteractive('df-b5d9bb01-835b-471a-b5a0-7a75528304ed')\"\n",
              "              title=\"Convert this dataframe to an interactive table.\"\n",
              "              style=\"display:none;\">\n",
              "        \n",
              "  <svg xmlns=\"http://www.w3.org/2000/svg\" height=\"24px\"viewBox=\"0 0 24 24\"\n",
              "       width=\"24px\">\n",
              "    <path d=\"M0 0h24v24H0V0z\" fill=\"none\"/>\n",
              "    <path d=\"M18.56 5.44l.94 2.06.94-2.06 2.06-.94-2.06-.94-.94-2.06-.94 2.06-2.06.94zm-11 1L8.5 8.5l.94-2.06 2.06-.94-2.06-.94L8.5 2.5l-.94 2.06-2.06.94zm10 10l.94 2.06.94-2.06 2.06-.94-2.06-.94-.94-2.06-.94 2.06-2.06.94z\"/><path d=\"M17.41 7.96l-1.37-1.37c-.4-.4-.92-.59-1.43-.59-.52 0-1.04.2-1.43.59L10.3 9.45l-7.72 7.72c-.78.78-.78 2.05 0 2.83L4 21.41c.39.39.9.59 1.41.59.51 0 1.02-.2 1.41-.59l7.78-7.78 2.81-2.81c.8-.78.8-2.07 0-2.86zM5.41 20L4 18.59l7.72-7.72 1.47 1.35L5.41 20z\"/>\n",
              "  </svg>\n",
              "      </button>\n",
              "      \n",
              "  <style>\n",
              "    .colab-df-container {\n",
              "      display:flex;\n",
              "      flex-wrap:wrap;\n",
              "      gap: 12px;\n",
              "    }\n",
              "\n",
              "    .colab-df-convert {\n",
              "      background-color: #E8F0FE;\n",
              "      border: none;\n",
              "      border-radius: 50%;\n",
              "      cursor: pointer;\n",
              "      display: none;\n",
              "      fill: #1967D2;\n",
              "      height: 32px;\n",
              "      padding: 0 0 0 0;\n",
              "      width: 32px;\n",
              "    }\n",
              "\n",
              "    .colab-df-convert:hover {\n",
              "      background-color: #E2EBFA;\n",
              "      box-shadow: 0px 1px 2px rgba(60, 64, 67, 0.3), 0px 1px 3px 1px rgba(60, 64, 67, 0.15);\n",
              "      fill: #174EA6;\n",
              "    }\n",
              "\n",
              "    [theme=dark] .colab-df-convert {\n",
              "      background-color: #3B4455;\n",
              "      fill: #D2E3FC;\n",
              "    }\n",
              "\n",
              "    [theme=dark] .colab-df-convert:hover {\n",
              "      background-color: #434B5C;\n",
              "      box-shadow: 0px 1px 3px 1px rgba(0, 0, 0, 0.15);\n",
              "      filter: drop-shadow(0px 1px 2px rgba(0, 0, 0, 0.3));\n",
              "      fill: #FFFFFF;\n",
              "    }\n",
              "  </style>\n",
              "\n",
              "      <script>\n",
              "        const buttonEl =\n",
              "          document.querySelector('#df-b5d9bb01-835b-471a-b5a0-7a75528304ed button.colab-df-convert');\n",
              "        buttonEl.style.display =\n",
              "          google.colab.kernel.accessAllowed ? 'block' : 'none';\n",
              "\n",
              "        async function convertToInteractive(key) {\n",
              "          const element = document.querySelector('#df-b5d9bb01-835b-471a-b5a0-7a75528304ed');\n",
              "          const dataTable =\n",
              "            await google.colab.kernel.invokeFunction('convertToInteractive',\n",
              "                                                     [key], {});\n",
              "          if (!dataTable) return;\n",
              "\n",
              "          const docLinkHtml = 'Like what you see? Visit the ' +\n",
              "            '<a target=\"_blank\" href=https://colab.research.google.com/notebooks/data_table.ipynb>data table notebook</a>'\n",
              "            + ' to learn more about interactive tables.';\n",
              "          element.innerHTML = '';\n",
              "          dataTable['output_type'] = 'display_data';\n",
              "          await google.colab.output.renderOutput(dataTable, element);\n",
              "          const docLink = document.createElement('div');\n",
              "          docLink.innerHTML = docLinkHtml;\n",
              "          element.appendChild(docLink);\n",
              "        }\n",
              "      </script>\n",
              "    </div>\n",
              "  </div>\n",
              "  "
            ]
          },
          "metadata": {},
          "execution_count": 48
        }
      ]
    },
    {
      "cell_type": "code",
      "source": [
        "print(train.arrival.nunique())\n",
        "print(train.delay.nunique())\n"
      ],
      "metadata": {
        "colab": {
          "base_uri": "https://localhost:8080/"
        },
        "id": "xDPcMbizOosI",
        "outputId": "9c4b491d-c1ae-4ca5-f89d-3d928ef20aa7"
      },
      "execution_count": null,
      "outputs": [
        {
          "output_type": "stream",
          "name": "stdout",
          "text": [
            "374\n",
            "68\n"
          ]
        }
      ]
    }
  ]
}